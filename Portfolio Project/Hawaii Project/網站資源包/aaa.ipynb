{
 "cells": [
  {
   "cell_type": "code",
   "execution_count": 43,
   "metadata": {},
   "outputs": [
    {
     "name": "stdout",
     "output_type": "stream",
     "text": [
      "3"
     ]
    }
   ],
   "source": [
    "import random\n",
    "#設一個空集合\n",
    "b=set()\n",
    "for _ in range(100):\n",
    "    if len(b)!=3:\n",
    "\n",
    "        a=random.randint(1,11)\n",
    "        # 將a轉成集合\n",
    "        b.add(a)\n",
    "print(b,end=\"\")"
   ]
  }
 ],
 "metadata": {
  "interpreter": {
   "hash": "83d9d254dd275e6481f3d2067d3952e7f8e2246efda23c71189cf7738c0beeff"
  },
  "kernelspec": {
   "display_name": "Python 3.10.4 64-bit",
   "language": "python",
   "name": "python3"
  },
  "language_info": {
   "codemirror_mode": {
    "name": "ipython",
    "version": 3
   },
   "file_extension": ".py",
   "mimetype": "text/x-python",
   "name": "python",
   "nbconvert_exporter": "python",
   "pygments_lexer": "ipython3",
   "version": "3.10.4"
  },
  "orig_nbformat": 4
 },
 "nbformat": 4,
 "nbformat_minor": 2
}
